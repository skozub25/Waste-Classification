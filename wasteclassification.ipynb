{
 "cells": [
  {
   "cell_type": "markdown",
   "id": "3cf4cc24-ad17-4b4b-8615-0d1aba73e9a7",
   "metadata": {},
   "source": [
    "# CNN Waste Classification"
   ]
  },
  {
   "cell_type": "markdown",
   "id": "85a065cf-5eec-468e-8a6f-b1d5304f4dd9",
   "metadata": {},
   "source": [
    "## Introduction"
   ]
  },
  {
   "cell_type": "markdown",
   "id": "22aaf88d-c0dd-46ba-afe8-215eaf3e3e29",
   "metadata": {},
   "source": [
    "Purpose, goal, context, blah blah blah"
   ]
  },
  {
   "cell_type": "markdown",
   "id": "0fff3f28-f9e7-4150-a661-a8ab9376c39e",
   "metadata": {},
   "source": [
    "## Data Pre-Processing"
   ]
  },
  {
   "cell_type": "code",
   "execution_count": 1,
   "id": "fe5e153e-6370-4ef9-899a-cf6d83eaf1a2",
   "metadata": {},
   "outputs": [],
   "source": [
    "import os\n",
    "import numpy as np\n",
    "import matplotlib.pyplot as plt\n",
    "#!pip install torch -- uncomment first time you run\n",
    "import seaborn as sns\n",
    "#!pip install torch -- uncomment first time you run\n",
    "import torch\n",
    "#!pip install torchvision -- uncomment first time you run\n",
    "import torchvision\n",
    "from torchvision import datasets, transforms, models\n",
    "from torch import nn, optim\n",
    "from sklearn.metrics import confusion_matrix, classification_report\n",
    "from torchvision.datasets import ImageFolder"
   ]
  },
  {
   "cell_type": "code",
   "execution_count": 2,
   "id": "d0e00f1a-ec76-4f7e-bdd1-74001cdc013e",
   "metadata": {},
   "outputs": [],
   "source": [
    "# Define set of transformations- convert image to PyTorch tensor, scale pixels from 0-255 to 0.0 - 1.0, normalizes pixels to -1.0 - 1.0\n",
    "# Output is a (3, 256, 256) array --> Color channels 0.0 - 1.0 and the dimensions 256x256\n",
    "transform_scratch = transforms.Compose([\n",
    "    transforms.ToTensor(),\n",
    "    transforms.Normalize([0.5]*3, [0.5]*3)\n",
    "])"
   ]
  },
  {
   "cell_type": "code",
   "execution_count": 3,
   "id": "225c44d5-914a-4545-947e-93fb4167b2d2",
   "metadata": {},
   "outputs": [
    {
     "name": "stdout",
     "output_type": "stream",
     "text": [
      "Total images: 15000\n",
      "Class labels: ['aerosol_cans', 'aluminum_food_cans', 'aluminum_soda_cans', 'cardboard_boxes', 'cardboard_packaging', 'clothing', 'coffee_grounds', 'disposable_plastic_cutlery', 'eggshells', 'food_waste', 'glass_beverage_bottles', 'glass_cosmetic_containers', 'glass_food_jars', 'magazines', 'newspaper', 'office_paper', 'paper_cups', 'plastic_cup_lids', 'plastic_detergent_bottles', 'plastic_food_containers', 'plastic_shopping_bags', 'plastic_soda_bottles', 'plastic_straws', 'plastic_trash_bags', 'plastic_water_bottles', 'shoes', 'steel_food_cans', 'styrofoam_cups', 'styrofoam_food_containers', 'tea_bags']\n"
     ]
    }
   ],
   "source": [
    "# Load in the dataset and apply the transform\n",
    "from torchvision.datasets import ImageFolder\n",
    "\n",
    "full_dataset = ImageFolder(root=\"images/\", transform=transform_scratch)\n",
    "print(f\"Total images: {len(full_dataset)}\")\n",
    "print(f\"Class labels: {full_dataset.classes}\")"
   ]
  },
  {
   "cell_type": "code",
   "execution_count": null,
   "id": "6d99b6b4-59b3-4035-9dba-317e63da2ec0",
   "metadata": {},
   "outputs": [],
   "source": []
  }
 ],
 "metadata": {
  "kernelspec": {
   "display_name": "Python 3 (ipykernel)",
   "language": "python",
   "name": "python3"
  },
  "language_info": {
   "codemirror_mode": {
    "name": "ipython",
    "version": 3
   },
   "file_extension": ".py",
   "mimetype": "text/x-python",
   "name": "python",
   "nbconvert_exporter": "python",
   "pygments_lexer": "ipython3",
   "version": "3.11.11"
  }
 },
 "nbformat": 4,
 "nbformat_minor": 5
}
